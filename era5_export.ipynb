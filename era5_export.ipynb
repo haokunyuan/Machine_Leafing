{
 "cells": [
  {
   "cell_type": "code",
   "execution_count": null,
   "id": "f632bcc5",
   "metadata": {},
   "outputs": [],
   "source": [
    "pip install cdsapi\n",
    "\n",
    "{\n",
    "echo 'url: https://cds.climate.copernicus.eu/api'\n",
    "echo 'key: d265d117-1446-461f-afbb-34a33be341dd'\n",
    "} > ~/.cdsapirc"
   ]
  },
  {
   "cell_type": "code",
   "execution_count": null,
   "id": "ad4d62ea",
   "metadata": {},
   "outputs": [],
   "source": [
    "import cdsapi\n",
    "import os\n",
    "\n",
    "# Initialize CDS API client\n",
    "client = cdsapi.Client()\n",
    "\n",
    "# Output path on HPC\n",
    "output_dir = \"/burg/glab/projects/ET_proj/ERA5_divergence\"\n",
    "os.makedirs(output_dir, exist_ok=True)\n",
    "\n",
    "# Dataset name\n",
    "dataset = \"derived-reanalysis-energy-moisture-budget\"\n",
    "\n",
    "# Years and months to loop over\n",
    "years = [str(y) for y in range(1979, 2023)]\n",
    "months = [f\"{m:02d}\" for m in range(1, 13)]\n",
    "\n",
    "# Loop over each year and month\n",
    "for year in years:\n",
    "    for month in months:\n",
    "        output_file = os.path.join(output_dir, f\"era5_{year}_{month}.nc\")\n",
    "\n",
    "        # Skip if file already exists (optional)\n",
    "        if os.path.exists(output_file):\n",
    "            print(f\"File already exists: {output_file}\")\n",
    "            continue\n",
    "\n",
    "        print(f\"Downloading {year}-{month}...\")\n",
    "        request = {\n",
    "            \"variable\": \"divergence_of_vertical_integral_of_water_vapour_flux\",\n",
    "            \"year\": year,\n",
    "            \"month\": month,\n",
    "            \"format\": \"netcdf\"\n",
    "        }\n",
    "\n",
    "        # Retrieve the data\n",
    "        client.retrieve(dataset, request, output_file)\n"
   ]
  },
  {
   "cell_type": "code",
   "execution_count": 1,
   "id": "9707065e",
   "metadata": {},
   "outputs": [
    {
     "name": "stdout",
     "output_type": "stream",
     "text": [
      "Renamed: water-vapour-flux-divergence_monthly_200811_v1.0.nc -> era5_2008_11.nc\n",
      "Renamed: water-vapour-flux-divergence_monthly_200809_v1.0.nc -> era5_2008_09.nc\n",
      "Renamed: water-vapour-flux-divergence_monthly_200810_v1.0.nc -> era5_2008_10.nc\n",
      "Renamed: water-vapour-flux-divergence_monthly_200808_v1.0.nc -> era5_2008_08.nc\n",
      "Renamed: water-vapour-flux-divergence_monthly_199806_v1.0.nc -> era5_1998_06.nc\n",
      "Renamed: water-vapour-flux-divergence_monthly_201807_v1.0.nc -> era5_2018_07.nc\n",
      "Renamed: water-vapour-flux-divergence_monthly_200805_v1.0.nc -> era5_2008_05.nc\n",
      "Renamed: water-vapour-flux-divergence_monthly_200806_v1.0.nc -> era5_2008_06.nc\n",
      "Renamed: water-vapour-flux-divergence_monthly_200804_v1.0.nc -> era5_2008_04.nc\n",
      "Renamed: water-vapour-flux-divergence_monthly_200807_v1.0.nc -> era5_2008_07.nc\n"
     ]
    }
   ],
   "source": [
    "#Rename Manual Upload###########\n",
    "import os\n",
    "import re\n",
    "\n",
    "# Folder where your current files are\n",
    "div_dir = \"/burg/glab/projects/ET_proj/ERA5_div\"\n",
    "\n",
    "# Loop over files in the directory\n",
    "for filename in os.listdir(div_dir):\n",
    "    if filename.startswith(\"water-vapour-flux-divergence\") and filename.endswith(\".nc\"):\n",
    "        # Extract YYYYMM\n",
    "        match = re.search(r'_(\\d{6})_', filename)\n",
    "        if match:\n",
    "            yyyymm = match.group(1)\n",
    "            year = yyyymm[:4]\n",
    "            month = yyyymm[4:]\n",
    "            \n",
    "            # New filename\n",
    "            new_name = f\"era5_{year}_{month}.nc\"\n",
    "            \n",
    "            # Full paths\n",
    "            old_path = os.path.join(div_dir, filename)\n",
    "            new_path = os.path.join(div_dir, new_name)\n",
    "            \n",
    "            # Rename\n",
    "            os.rename(old_path, new_path)\n",
    "            print(f\"Renamed: {filename} -> {new_name}\")\n"
   ]
  }
 ],
 "metadata": {
  "kernelspec": {
   "display_name": "leapenv",
   "language": "python",
   "name": "python3"
  },
  "language_info": {
   "codemirror_mode": {
    "name": "ipython",
    "version": 3
   },
   "file_extension": ".py",
   "mimetype": "text/x-python",
   "name": "python",
   "nbconvert_exporter": "python",
   "pygments_lexer": "ipython3",
   "version": "3.9.21"
  }
 },
 "nbformat": 4,
 "nbformat_minor": 5
}
