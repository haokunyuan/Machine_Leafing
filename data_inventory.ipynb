{
 "cells": [
  {
   "cell_type": "code",
   "execution_count": null,
   "id": "97af383f-437e-4b4f-8fd7-7d98f59b8914",
   "metadata": {},
   "outputs": [],
   "source": [
    "import xarray as xr\n",
    "import requests\n",
    "import pandas as pd"
   ]
  },
  {
   "cell_type": "markdown",
   "id": "1b2459ed-7497-4822-aaa7-498487f3b91a",
   "metadata": {},
   "source": [
    "# LEAP data"
   ]
  },
  {
   "cell_type": "code",
   "execution_count": 1,
   "id": "db3229f7-349b-4b96-874c-e65c566ecdba",
   "metadata": {},
   "outputs": [],
   "source": [
    "store = 'gs://leap-persistent/data-library/GLAB-VOD/GLAB-VOD.zarr'\n",
    "ds = xr.open_dataset(store, engine='zarr', chunks={})"
   ]
  },
  {
   "cell_type": "markdown",
   "id": "a0561433-4e02-4215-a0a6-257d742c9a47",
   "metadata": {},
   "source": [
    "# Copernicus data"
   ]
  },
  {
   "cell_type": "code",
   "execution_count": 6,
   "id": "902fd438-559e-492d-bca1-175d6e03c569",
   "metadata": {},
   "outputs": [
    {
     "data": {
      "text/html": [
       "<div>\n",
       "<style scoped>\n",
       "    .dataframe tbody tr th:only-of-type {\n",
       "        vertical-align: middle;\n",
       "    }\n",
       "\n",
       "    .dataframe tbody tr th {\n",
       "        vertical-align: top;\n",
       "    }\n",
       "\n",
       "    .dataframe thead th {\n",
       "        text-align: right;\n",
       "    }\n",
       "</style>\n",
       "<table border=\"1\" class=\"dataframe\">\n",
       "  <thead>\n",
       "    <tr style=\"text-align: right;\">\n",
       "      <th></th>\n",
       "      <th>Id</th>\n",
       "      <th>Name</th>\n",
       "      <th>S3Path</th>\n",
       "      <th>GeoFootprint</th>\n",
       "    </tr>\n",
       "  </thead>\n",
       "  <tbody>\n",
       "    <tr>\n",
       "      <th>0</th>\n",
       "      <td>70c20650-4621-40ee-9f29-41973e8ef96b</td>\n",
       "      <td>DEM1_SAR_DTE_90_20110204T132020_20141115T13303...</td>\n",
       "      <td>/eodata/CCM/COP-DEM_GLO-90-DTED/SAR_DTE_90_61F...</td>\n",
       "      <td>{'type': 'Polygon', 'coordinates': [[[59.0, 68...</td>\n",
       "    </tr>\n",
       "    <tr>\n",
       "      <th>1</th>\n",
       "      <td>aabba86a-53ef-4c17-a673-ecda83e13203</td>\n",
       "      <td>DEM1_SAR_DTE_90_20110204T091108_20131220T09231...</td>\n",
       "      <td>/eodata/CCM/COP-DEM_GLO-90-DTED/SAR_DTE_90_61F...</td>\n",
       "      <td>{'type': 'Polygon', 'coordinates': [[[-58.0, -...</td>\n",
       "    </tr>\n",
       "    <tr>\n",
       "      <th>2</th>\n",
       "      <td>00646e04-06e0-4462-9ef4-cf3128abda61</td>\n",
       "      <td>PH1B_PHR_MS__2A_20180920T141019_20180920T14102...</td>\n",
       "      <td>/eodata/CCM/VHR_IMAGE_2018/PHR_MS__2A_E1F0/201...</td>\n",
       "      <td>{'type': 'Polygon', 'coordinates': [[[-52.7024...</td>\n",
       "    </tr>\n",
       "  </tbody>\n",
       "</table>\n",
       "</div>"
      ],
      "text/plain": [
       "                                     Id  \\\n",
       "0  70c20650-4621-40ee-9f29-41973e8ef96b   \n",
       "1  aabba86a-53ef-4c17-a673-ecda83e13203   \n",
       "2  00646e04-06e0-4462-9ef4-cf3128abda61   \n",
       "\n",
       "                                                Name  \\\n",
       "0  DEM1_SAR_DTE_90_20110204T132020_20141115T13303...   \n",
       "1  DEM1_SAR_DTE_90_20110204T091108_20131220T09231...   \n",
       "2  PH1B_PHR_MS__2A_20180920T141019_20180920T14102...   \n",
       "\n",
       "                                              S3Path  \\\n",
       "0  /eodata/CCM/COP-DEM_GLO-90-DTED/SAR_DTE_90_61F...   \n",
       "1  /eodata/CCM/COP-DEM_GLO-90-DTED/SAR_DTE_90_61F...   \n",
       "2  /eodata/CCM/VHR_IMAGE_2018/PHR_MS__2A_E1F0/201...   \n",
       "\n",
       "                                        GeoFootprint  \n",
       "0  {'type': 'Polygon', 'coordinates': [[[59.0, 68...  \n",
       "1  {'type': 'Polygon', 'coordinates': [[[-58.0, -...  \n",
       "2  {'type': 'Polygon', 'coordinates': [[[-52.7024...  "
      ]
     },
     "execution_count": 6,
     "metadata": {},
     "output_type": "execute_result"
    }
   ],
   "source": [
    "json = requests.get(\"https://catalogue.dataspace.copernicus.eu/odata/v1/Products?$filter=Collection/Name eq 'CCM'\").json()\n",
    "df = pd.DataFrame.from_dict(json['value'])\n",
    "\n",
    "# Print only specific columns\n",
    "columns_to_print = ['Id', 'Name','S3Path','GeoFootprint']  \n",
    "df[columns_to_print].head(3)"
   ]
  },
  {
   "cell_type": "code",
   "execution_count": 3,
   "id": "0e4e4a28-3831-4cb9-99ae-637cb1f07db9",
   "metadata": {},
   "outputs": [
    {
     "name": "stdout",
     "output_type": "stream",
     "text": [
      "Requirement already satisfied: requests in /srv/conda/envs/notebook/lib/python3.12/site-packages (2.32.4)\n",
      "Requirement already satisfied: charset_normalizer<4,>=2 in /srv/conda/envs/notebook/lib/python3.12/site-packages (from requests) (3.4.2)\n",
      "Requirement already satisfied: idna<4,>=2.5 in /srv/conda/envs/notebook/lib/python3.12/site-packages (from requests) (3.10)\n",
      "Requirement already satisfied: urllib3<3,>=1.21.1 in /srv/conda/envs/notebook/lib/python3.12/site-packages (from requests) (1.26.19)\n",
      "Requirement already satisfied: certifi>=2017.4.17 in /srv/conda/envs/notebook/lib/python3.12/site-packages (from requests) (2025.6.15)\n",
      "Note: you may need to restart the kernel to use updated packages.\n"
     ]
    }
   ],
   "source": [
    "pip install requests"
   ]
  }
 ],
 "metadata": {
  "kernelspec": {
   "display_name": "Python 3 (ipykernel)",
   "language": "python",
   "name": "python3"
  },
  "language_info": {
   "codemirror_mode": {
    "name": "ipython",
    "version": 3
   },
   "file_extension": ".py",
   "mimetype": "text/x-python",
   "name": "python",
   "nbconvert_exporter": "python",
   "pygments_lexer": "ipython3",
   "version": "3.12.11"
  }
 },
 "nbformat": 4,
 "nbformat_minor": 5
}
